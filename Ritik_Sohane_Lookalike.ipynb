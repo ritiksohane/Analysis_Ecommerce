{
 "cells": [
  {
   "cell_type": "code",
   "execution_count": 1,
   "metadata": {},
   "outputs": [
    {
     "name": "stdout",
     "output_type": "stream",
     "text": [
      "            Lookalike1       Lookalike2       Lookalike3\n",
      "C0001  (C0181, 0.9826)  (C0120, 0.9674)  (C0184, 0.9556)\n",
      "C0002  (C0088, 0.9946)  (C0106, 0.9644)  (C0134, 0.9333)\n",
      "C0003  (C0031, 0.9525)  (C0052, 0.9473)  (C0195, 0.9438)\n",
      "C0004  (C0165, 0.9639)  (C0169, 0.9554)  (C0087, 0.9488)\n",
      "C0005  (C0140, 0.9954)  (C0186, 0.9925)  (C0146, 0.9752)\n"
     ]
    }
   ],
   "source": [
    "import pandas as pd\n",
    "from sklearn.preprocessing import StandardScaler\n",
    "from sklearn.metrics.pairwise import cosine_similarity\n",
    "\n",
    "# Load datasets\n",
    "customers = pd.read_csv('Customers.csv')\n",
    "products = pd.read_csv('Products.csv')\n",
    "transactions = pd.read_csv('Transactions.csv')\n",
    "\n",
    "# Merge datasets\n",
    "merged_df = transactions.merge(customers, on='CustomerID', how='left')\n",
    "merged_df = merged_df.merge(products, on='ProductID', how='left')\n",
    "\n",
    "# Rename and clean up columns\n",
    "merged_df.rename(columns={'Price_y': 'Price'}, inplace=True)\n",
    "merged_df.drop(columns=['Price_x'], inplace=True)\n",
    "\n",
    "# Aggregate transaction data per customer\n",
    "customer_profile = merged_df.groupby('CustomerID').agg({\n",
    "    'TotalValue': 'sum',\n",
    "    'Quantity': 'sum',\n",
    "    'Price': 'mean',\n",
    "    'Category': lambda x: x.mode()[0] if not x.mode().empty else 'Unknown',  # Handle empty mode\n",
    "    'Region': lambda x: x.mode()[0] if not x.mode().empty else 'Unknown'     # Handle empty mode\n",
    "}).reset_index()\n",
    "\n",
    "# Convert categorical columns to numeric using one-hot encoding\n",
    "customer_profile = pd.get_dummies(customer_profile, columns=['Category', 'Region'])\n",
    "\n",
    "# Normalize data\n",
    "scaler = StandardScaler()\n",
    "customer_features = scaler.fit_transform(customer_profile.drop(columns=['CustomerID']))\n",
    "\n",
    "# Compute similarity scores using cosine similarity\n",
    "similarity_matrix = cosine_similarity(customer_features)\n",
    "\n",
    "# Get top 3 similar customers for the first 20 customers\n",
    "lookalikes = {}\n",
    "customer_ids = customer_profile['CustomerID'].values[:20]\n",
    "\n",
    "for i, cust_id in enumerate(customer_ids):\n",
    "    scores = list(enumerate(similarity_matrix[i]))\n",
    "    scores = sorted(scores, key=lambda x: x[1], reverse=True)\n",
    "    top_3 = [(customer_profile['CustomerID'][idx], round(score, 4)) for idx, score in scores[1:4]]\n",
    "    lookalikes[cust_id] = top_3\n",
    "\n",
    "# Create the output DataFrame\n",
    "lookalike_df = pd.DataFrame.from_dict(lookalikes, orient='index', columns=['Lookalike1', 'Lookalike2', 'Lookalike3'])\n",
    "\n",
    "# Save the results to a CSV file\n",
    "lookalike_df.to_csv('Lookalike.csv', index=True, header=True)\n",
    "\n",
    "# Display the results\n",
    "print(lookalike_df.head())\n"
   ]
  },
  {
   "cell_type": "code",
   "execution_count": null,
   "metadata": {},
   "outputs": [],
   "source": []
  }
 ],
 "metadata": {
  "kernelspec": {
   "display_name": "venv",
   "language": "python",
   "name": "venv"
  },
  "language_info": {
   "codemirror_mode": {
    "name": "ipython",
    "version": 3
   },
   "file_extension": ".py",
   "mimetype": "text/x-python",
   "name": "python",
   "nbconvert_exporter": "python",
   "pygments_lexer": "ipython3",
   "version": "3.12.5"
  }
 },
 "nbformat": 4,
 "nbformat_minor": 4
}
