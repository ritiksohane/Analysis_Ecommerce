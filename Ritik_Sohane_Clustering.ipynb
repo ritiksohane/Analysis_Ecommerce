{
 "cells": [
  {
   "cell_type": "code",
   "execution_count": 1,
   "metadata": {},
   "outputs": [
    {
     "ename": "ModuleNotFoundError",
     "evalue": "No module named 'pandas'",
     "output_type": "error",
     "traceback": [
      "\u001b[0;31m---------------------------------------------------------------------------\u001b[0m",
      "\u001b[0;31mModuleNotFoundError\u001b[0m                       Traceback (most recent call last)",
      "Cell \u001b[0;32mIn[1], line 3\u001b[0m\n\u001b[1;32m      1\u001b[0m \u001b[38;5;66;03m# Customer Segmentation Using Clustering\u001b[39;00m\n\u001b[0;32m----> 3\u001b[0m \u001b[38;5;28;01mimport\u001b[39;00m \u001b[38;5;21;01mpandas\u001b[39;00m \u001b[38;5;28;01mas\u001b[39;00m \u001b[38;5;21;01mpd\u001b[39;00m\n\u001b[1;32m      4\u001b[0m \u001b[38;5;28;01mfrom\u001b[39;00m \u001b[38;5;21;01msklearn\u001b[39;00m\u001b[38;5;21;01m.\u001b[39;00m\u001b[38;5;21;01mpreprocessing\u001b[39;00m \u001b[38;5;28;01mimport\u001b[39;00m StandardScaler\n\u001b[1;32m      5\u001b[0m \u001b[38;5;28;01mfrom\u001b[39;00m \u001b[38;5;21;01msklearn\u001b[39;00m\u001b[38;5;21;01m.\u001b[39;00m\u001b[38;5;21;01mcluster\u001b[39;00m \u001b[38;5;28;01mimport\u001b[39;00m KMeans\n",
      "\u001b[0;31mModuleNotFoundError\u001b[0m: No module named 'pandas'"
     ]
    }
   ],
   "source": [
    "\n",
    "# Customer Segmentation Using Clustering\n",
    "\n",
    "import pandas as pd\n",
    "from sklearn.preprocessing import StandardScaler\n",
    "from sklearn.cluster import KMeans\n",
    "from sklearn.metrics import davies_bouldin_score\n",
    "import matplotlib.pyplot as plt\n",
    "import seaborn as sns\n",
    "\n",
    "# Load data\n",
    "customers_df = pd.read_csv('Customers.csv')\n",
    "transactions_df = pd.read_csv('Transactions.csv')\n",
    "products_df = pd.read_csv('Products.csv')\n",
    "\n",
    "# Preprocess data\n",
    "customers_df['SignupDate'] = pd.to_datetime(customers_df['SignupDate'])\n",
    "transactions_df['TransactionDate'] = pd.to_datetime(transactions_df['TransactionDate'])\n",
    "\n",
    "transactions_merged = transactions_df.merge(products_df, on=\"ProductID\", how=\"left\")\n",
    "customer_transactions = transactions_merged.merge(customers_df, on=\"CustomerID\", how=\"left\")\n",
    "\n",
    "# Aggregate features\n",
    "customer_features = customer_transactions.groupby('CustomerID').agg({\n",
    "    'TotalValue': 'sum',\n",
    "    'TransactionID': 'count',\n",
    "    'Quantity': 'mean',\n",
    "    'TransactionDate': lambda x: (x.max() - x.min()).days,\n",
    "    'Region': 'first',\n",
    "    'SignupDate': 'first'\n",
    "}).rename(columns={\n",
    "    'TotalValue': 'TotalSpend',\n",
    "    'TransactionID': 'TransactionCount',\n",
    "    'Quantity': 'AverageQuantity',\n",
    "    'TransactionDate': 'DaysBetweenPurchases'\n",
    "})\n",
    "\n",
    "latest_date = customer_transactions['TransactionDate'].max()\n",
    "customer_features['DaysSinceSignup'] = (latest_date - customer_features['SignupDate']).dt.days\n",
    "customer_features = customer_features.drop(columns=['SignupDate'])\n",
    "\n",
    "# Normalize and encode features\n",
    "customer_features_encoded = pd.get_dummies(customer_features, columns=['Region'], drop_first=True)\n",
    "numerical_features = ['TotalSpend', 'TransactionCount', 'AverageQuantity', 'DaysBetweenPurchases', 'DaysSinceSignup']\n",
    "scaler = StandardScaler()\n",
    "customer_features_encoded[numerical_features] = scaler.fit_transform(customer_features_encoded[numerical_features])\n",
    "\n",
    "# Perform clustering\n",
    "n_clusters = 4\n",
    "kmeans = KMeans(n_clusters=n_clusters, random_state=42, n_init=10)\n",
    "customer_features_encoded['Cluster'] = kmeans.fit_predict(customer_features_encoded)\n",
    "\n",
    "# Evaluate clustering\n",
    "db_index = davies_bouldin_score(customer_features_encoded[numerical_features], customer_features_encoded['Cluster'])\n",
    "print(f\"Davies-Bouldin Index: {db_index:.3f}\")\n",
    "\n",
    "# Visualize clusters\n",
    "plt.figure(figsize=(10, 6))\n",
    "sns.scatterplot(\n",
    "    x=customer_features_encoded['TotalSpend'],\n",
    "    y=customer_features_encoded['TransactionCount'],\n",
    "    hue=customer_features_encoded['Cluster'],\n",
    "    palette='viridis',\n",
    "    s=50\n",
    ")\n",
    "plt.title('Customer Clusters (K-Means)', fontsize=16)\n",
    "plt.xlabel('Normalized Total Spend', fontsize=12)\n",
    "plt.ylabel('Normalized Transaction Count', fontsize=12)\n",
    "plt.legend(title='Cluster', fontsize=10)\n",
    "plt.grid(True, alpha=0.3)\n",
    "plt.show()\n"
   ]
  },
  {
   "cell_type": "code",
   "execution_count": null,
   "metadata": {},
   "outputs": [],
   "source": []
  }
 ],
 "metadata": {
  "kernelspec": {
   "display_name": "Python 3 (ipykernel)",
   "language": "python",
   "name": "python3"
  },
  "language_info": {
   "codemirror_mode": {
    "name": "ipython",
    "version": 3
   },
   "file_extension": ".py",
   "mimetype": "text/x-python",
   "name": "python",
   "nbconvert_exporter": "python",
   "pygments_lexer": "ipython3",
   "version": "3.12.5"
  }
 },
 "nbformat": 4,
 "nbformat_minor": 4
}
