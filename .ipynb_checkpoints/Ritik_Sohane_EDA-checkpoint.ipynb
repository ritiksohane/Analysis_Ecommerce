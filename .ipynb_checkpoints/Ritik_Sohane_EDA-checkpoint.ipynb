{
 "cells": [
  {
   "cell_type": "code",
   "execution_count": null,
   "metadata": {},
   "outputs": [
    {
     "ename": "",
     "evalue": "",
     "output_type": "error",
     "traceback": [
      "\u001b[1;31mJupyter cannot be started. Error attempting to locate jupyter: Running cells with 'Python 3.12.5 64-bit' requires notebook and jupyter package.\n",
      "Run the following command to install 'jupyter and notebook' into the Python environment. \n",
      "Command: '/opt/homebrew/bin/python3 -m pip install jupyter notebook -U'"
     ]
    }
   ],
   "source": [
    "import pandas as pd\n",
    "import matplotlib.pyplot as plt\n",
    "\n",
    "# Load datasets\n",
    "customers = pd.read_csv('Customers.csv')\n",
    "products = pd.read_csv('Products.csv')\n",
    "transactions = pd.read_csv('Transactions.csv')\n",
    "\n",
    "# Convert date columns to datetime format\n",
    "customers['SignupDate'] = pd.to_datetime(customers['SignupDate'])\n",
    "transactions['TransactionDate'] = pd.to_datetime(transactions['TransactionDate'])\n",
    "\n",
    "# Merge datasets\n",
    "merged_df = transactions.merge(customers, on='CustomerID', how='left')\n",
    "merged_df = merged_df.merge(products, on='ProductID', how='left')\n",
    "\n",
    "# Summary statistics\n",
    "print(merged_df.describe())\n",
    "\n",
    "# Top 5 most purchased products\n",
    "top_products = merged_df.groupby('ProductName')['Quantity'].sum().sort_values(ascending=False).head(5)\n",
    "print(top_products)\n",
    "\n",
    "# Revenue by region\n",
    "revenue_by_region = merged_df.groupby('Region')['TotalValue'].sum().sort_values(ascending=False)\n",
    "print(revenue_by_region)\n",
    "\n",
    "# Monthly sales trend\n",
    "merged_df['MonthYear'] = merged_df['TransactionDate'].dt.to_period('M')\n",
    "monthly_sales = merged_df.groupby('MonthYear')['TotalValue'].sum()\n",
    "monthly_sales.plot(kind='line', marker='o', title='Monthly Sales Trend')\n",
    "plt.show()\n",
    "\n",
    "# Customer spending analysis\n",
    "customer_spending = merged_df.groupby('CustomerID')['TotalValue'].sum()\n",
    "print(customer_spending.describe())\n",
    "\n",
    "# Revenue distribution across product categories\n",
    "category_revenue = merged_df.groupby('Category')['TotalValue'].sum().sort_values(ascending=False)\n",
    "print(category_revenue)\n",
    "\n",
    "# Visualization for revenue by region\n",
    "revenue_by_region.plot(kind='bar', title='Revenue by Region')\n",
    "plt.ylabel('Total Revenue')\n",
    "plt.show()\n"
   ]
  },
  {
   "cell_type": "code",
   "execution_count": null,
   "metadata": {},
   "outputs": [],
   "source": []
  }
 ],
 "metadata": {
  "interpreter": {
   "hash": "b0fa6594d8f4cbf19f97940f81e996739fb7646882a419484c72d19e05852a7e"
  },
  "kernelspec": {
   "display_name": "Python 3.12.5 64-bit",
   "language": "python",
   "name": "python3"
  },
  "language_info": {
   "name": "python",
   "version": "3.12.5"
  },
  "orig_nbformat": 4
 },
 "nbformat": 4,
 "nbformat_minor": 2
}
